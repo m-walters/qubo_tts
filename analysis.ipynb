{
 "cells": [
  {
   "cell_type": "code",
   "execution_count": 1,
   "id": "7ec602ca",
   "metadata": {},
   "outputs": [],
   "source": [
    "import numpy as np\n",
    "import random\n",
    "import matplotlib.pyplot as plt\n",
    "\n",
    "from typing import Tuple, TypedDict, List\n",
    "from scipy.stats import truncnorm, binom, scoreatpercentile\n",
    "from scipy.stats import beta as Beta\n",
    "\n",
    "np.random.seed(8675309)"
   ]
  },
  {
   "cell_type": "code",
   "execution_count": 2,
   "id": "105419ab",
   "metadata": {},
   "outputs": [],
   "source": [
    "def generate_instances(theta: float, n_i: int) -> Tuple[Tuple[int, int]]:\n",
    "    \"\"\"\n",
    "    Generate n_i \"instances\" based on theta.\n",
    "    An \"instance\" here, as defined in the paper, is represented as a tuple \n",
    "    of two integers (r, y) where r is the number of runs and y the number of successes\n",
    "    We sample successes from a binomial distribution using R99 and theta\n",
    "    \"\"\"\n",
    "    r99 = int(np.ceil(-2. / np.log10(1-theta)))\n",
    "    ys = binom(r99, theta).rvs(size=n_i)\n",
    "    return tuple((r99, y) for y in ys)"
   ]
  },
  {
   "cell_type": "code",
   "execution_count": 3,
   "id": "2618543b",
   "metadata": {},
   "outputs": [],
   "source": [
    "def perform_bayesian_algorithm(thetas: List[float], N: int, B: int):\n",
    "    \"\"\"\n",
    "    Run the Bayesian algorithm across a set of known thetas, number of Monte Carlo instances N,\n",
    "    and bootstrap number B.\n",
    "    Returns the empirical distributions of R99-50 and R99-80 percentiles for each theta.\n",
    "    \"\"\"\n",
    "    instances_array = {th: generate_instances(th, N) for th in thetas}\n",
    "    # We track the distribution of q-50 and q-80 percentiles across our bootstrap iterations\n",
    "    r99_results = {th: {50: [], 80: []} for th in thetas}\n",
    "\n",
    "    for th in thetas:\n",
    "        instances = instances_array[th]\n",
    "        for b in range(B):\n",
    "            # We will be recursively sampling and updating our Beta prior\n",
    "            alpha, beta = 0.5, 0.5\n",
    "            r99_b = []\n",
    "            for inst in random.choices(instances, k=N):\n",
    "                # Update alpha and beta based on observed data\n",
    "                alpha = alpha + inst[1]\n",
    "                beta = beta + inst[0] - inst[1]\n",
    "                # Grab a sample from our posterior and append R99_b\n",
    "                th_sample = Beta(alpha, beta).rvs()\n",
    "                r99_b.append(-2. / np.log10(1 - th_sample))\n",
    "            # Grab the 50th and 80th percentiles of R99 for this bootstrap iter\n",
    "            q50 = scoreatpercentile(r99_b, 50)\n",
    "            q80 = scoreatpercentile(r99_b, 80)\n",
    "            r99_results[th][50].append(q50)\n",
    "            r99_results[th][80].append(q80)\n",
    "            \n",
    "    return r99_results"
   ]
  },
  {
   "cell_type": "markdown",
   "id": "49cb0488",
   "metadata": {},
   "source": [
    "### Investigation 1\n",
    "In our first investigation, we use 100 instances across different values of theta.  \n",
    "**Note**: Throughout this work, we let $\\tau = 1$, and thus $TTS = R_{99}$"
   ]
  },
  {
   "cell_type": "code",
   "execution_count": 4,
   "id": "b45988d0",
   "metadata": {},
   "outputs": [],
   "source": [
    "thetas = np.linspace(0.1, 0.9, 5)\n",
    "N = 100\n",
    "B = 100\n",
    "\n",
    "# We also convert our known theta values to our known r99 values for plotting\n",
    "r99_known = [-2 / np.log10(1-th) for th in thetas]\n",
    "\n",
    "# Perform the Bayesian algorithm\n",
    "r99_results = perform_bayesian_algorithm(thetas, N, B)\n",
    "\n",
    "# Calculate statistics from our empirical R99 distributions\n",
    "# We break the stats up into means and percentiles for easier plotting\n",
    "r99_mean = {50: [], 80: []}\n",
    "r99_5th = {50: [], 80: []}\n",
    "r99_95th = {50: [], 80: []}\n",
    "\n",
    "for th in thetas:\n",
    "    dist50, dist80 = r99_results[th][50], r99_results[th][80]\n",
    "    r99_mean[50].append(np.mean(dist50))\n",
    "    r99_5th[50].append(scoreatpercentile(dist50, 5))\n",
    "    r99_95th[50].append(scoreatpercentile(dist50, 95))\n",
    "    r99_mean[80].append(np.mean(dist80))\n",
    "    r99_5th[80].append(scoreatpercentile(dist80, 5))\n",
    "    r99_95th[80].append(scoreatpercentile(dist80, 95))\n",
    "    \n"
   ]
  },
  {
   "cell_type": "markdown",
   "id": "f44a8df5",
   "metadata": {},
   "source": [
    "We plot the estimated values of $R99$ ($TTS$) across\n",
    "our known values of $\\theta$. We mark the known $R99$ values with an X.  \n",
    "Error bars are the empirical 5th and 95th percentiles of our $R99_{50}$ distribution"
   ]
  },
  {
   "cell_type": "code",
   "execution_count": 5,
   "id": "01736fd6",
   "metadata": {},
   "outputs": [
    {
     "data": {
      "text/plain": [
       "Text(0, 0.5, 'TTS')"
      ]
     },
     "execution_count": 5,
     "metadata": {},
     "output_type": "execute_result"
    },
    {
     "data": {
      "image/png": "[encoded data removed]",
      "text/plain": [
       "<Figure size 432x288 with 1 Axes>"
      ]
     },
     "metadata": {
      "needs_background": "light"
     },
     "output_type": "display_data"
    }
   ],
   "source": [
    "plt.errorbar(thetas, r99_mean[50], yerr=[r99_5th[50], r99_95th[50]], fmt='o', capsize=5, zorder=0)\n",
    "plt.scatter(thetas, r99_known, c='r', s=100, marker='x', zorder=1)\n",
    "plt.xlabel(r'$\\theta$')\n",
    "plt.yscale('log')\n",
    "plt.ylabel('TTS')"
   ]
  },
  {
   "cell_type": "markdown",
   "id": "95221466",
   "metadata": {},
   "source": [
    "The result here suggests that our mean estimates of R99 are on point.  \n",
    "The percentile ranges decrease inversely to $\\theta$, though logarithmically it's fairly constant."
   ]
  },
  {
   "cell_type": "markdown",
   "id": "831f9d21",
   "metadata": {},
   "source": [
    "### Investigation 2\n",
    "In this investigation, we take a single value $\\theta = 0.3$ and investigate how\n",
    "our estimate scales with number of instances $N$."
   ]
  },
  {
   "cell_type": "code",
   "execution_count": 6,
   "id": "753124a3",
   "metadata": {},
   "outputs": [],
   "source": [
    "thetas = [0.3]\n",
    "Ns = [10, 100, 1000]\n",
    "B = 100\n",
    "\n",
    "r99_results = {n: None for n in Ns}\n",
    "for n in Ns:\n",
    "    # Let's just grab the 50th percentiles\n",
    "    bayes = perform_bayesian_algorithm(thetas, n, B)\n",
    "    r99_results[n] = bayes[0.3][50]\n"
   ]
  },
  {
   "cell_type": "code",
   "execution_count": 7,
   "id": "7054ce25",
   "metadata": {},
   "outputs": [],
   "source": [
    "# Calculate statistics from our empirical R99 distributions\n",
    "# We break the stats up into means and percentiles for easier plotting\n",
    "r99_mean = {n: [] for n in Ns}\n",
    "r99_5th = {n: [] for n in Ns}\n",
    "r99_95th = {n: [] for n in Ns}\n",
    "\n",
    "for n in Ns:\n",
    "    dist50 = r99_results[n]\n",
    "    r99_mean[n].append(np.mean(dist50))\n",
    "    r99_5th[n].append(scoreatpercentile(dist50, 5))\n",
    "    r99_95th[n].append(scoreatpercentile(dist50, 95))"
   ]
  },
  {
   "cell_type": "markdown",
   "id": "1bbfd84a",
   "metadata": {},
   "source": [
    "We plot the mean, and percentiles of our $R99$ ($TTS$) estimates across different instance sizes $N$.  \n",
    "We show known $R99$ for $\\theta=0.3$ with a horizontal dashed line."
   ]
  },
  {
   "cell_type": "code",
   "execution_count": 8,
   "id": "3f57d573",
   "metadata": {},
   "outputs": [
    {
     "data": {
      "text/plain": [
       "Text(0, 0.5, 'TTS')"
      ]
     },
     "execution_count": 8,
     "metadata": {},
     "output_type": "execute_result"
    },
    {
     "data": {
      "image/png": "[encoded data removed]",
      "text/plain": [
       "<Figure size 432x288 with 1 Axes>"
      ]
     },
     "metadata": {
      "needs_background": "light"
     },
     "output_type": "display_data"
    }
   ],
   "source": [
    "r99_known = -2 / np.log10(1-0.3) # For a hline\n",
    "\n",
    "y = [r99_mean[n][0] for n in Ns]\n",
    "y_5 = [r99_5th[n][0] for n in Ns]\n",
    "y_95 = [r99_95th[n][0] for n in Ns]\n",
    "\n",
    "plt.errorbar(Ns, y, yerr=[y_5, y_95], fmt='o', capsize=5, zorder=0)\n",
    "plt.xscale('log')\n",
    "plt.axhline(y=r99_known, color='k', alpha=0.5, linestyle='--')\n",
    "plt.xlabel(r'$N$')\n",
    "plt.ylabel('TTS')"
   ]
  },
  {
   "cell_type": "markdown",
   "id": "b42aebcb",
   "metadata": {},
   "source": [
    "Interesting, there doesn't seem to be strong improvement across $N$"
   ]
  },
  {
   "cell_type": "markdown",
   "id": "48c3ea8b",
   "metadata": {},
   "source": [
    "### Investigation 3\n",
    "Let's try varying number of bootstraps"
   ]
  },
  {
   "cell_type": "code",
   "execution_count": 9,
   "id": "34d62801",
   "metadata": {},
   "outputs": [],
   "source": [
    "thetas = [0.3]\n",
    "N = 100\n",
    "Bs = [10, 100, 1000]\n",
    "\n",
    "r99_results = {b: None for b in Bs}\n",
    "for b in Bs:\n",
    "    # Let's just grab the 50th percentiles\n",
    "    bayes = perform_bayesian_algorithm(thetas, N, b)\n",
    "    r99_results[b] = bayes[0.3][50]\n"
   ]
  },
  {
   "cell_type": "code",
   "execution_count": 10,
   "id": "6722c71d",
   "metadata": {},
   "outputs": [],
   "source": [
    "# Calculate statistics from our empirical R99 distributions\n",
    "# We break the stats up into means and percentiles for easier plotting\n",
    "r99_mean = {b: [] for b in Bs}\n",
    "r99_5th = {b: [] for b in Bs}\n",
    "r99_95th = {b: [] for b in Bs}\n",
    "\n",
    "for b in Bs:\n",
    "    dist50 = r99_results[b]\n",
    "    r99_mean[b].append(np.mean(dist50))\n",
    "    r99_5th[b].append(scoreatpercentile(dist50, 5))\n",
    "    r99_95th[b].append(scoreatpercentile(dist50, 95))"
   ]
  },
  {
   "cell_type": "markdown",
   "id": "0aa27c09",
   "metadata": {},
   "source": [
    "We plot our TTS estimates across $B$, with a horizontal line of the known $R_{99}$ for $\\theta=0.3$"
   ]
  },
  {
   "cell_type": "code",
   "execution_count": 11,
   "id": "1be3d1c7",
   "metadata": {},
   "outputs": [
    {
     "data": {
      "text/plain": [
       "Text(0, 0.5, 'TTS')"
      ]
     },
     "execution_count": 11,
     "metadata": {},
     "output_type": "execute_result"
    },
    {
     "data": {
      "image/png": "[encoded data removed]",
      "text/plain": [
       "<Figure size 432x288 with 1 Axes>"
      ]
     },
     "metadata": {
      "needs_background": "light"
     },
     "output_type": "display_data"
    }
   ],
   "source": [
    "r99_known = -2 / np.log10(1-0.3) # For a hline\n",
    "\n",
    "y = [r99_mean[b][0] for b in Bs]\n",
    "y_5 = [r99_5th[b][0] for b in Bs]\n",
    "y_95 = [r99_95th[b][0] for b in Bs]\n",
    "\n",
    "plt.errorbar(Bs, y, yerr=[y_5, y_95], fmt='o', capsize=5, zorder=0)\n",
    "plt.xscale('log')\n",
    "plt.axhline(y=r99_known, color='k', alpha=0.5, linestyle='--')\n",
    "plt.xlabel(r'$B$')\n",
    "plt.ylabel('TTS')"
   ]
  },
  {
   "cell_type": "markdown",
   "id": "bd803545",
   "metadata": {},
   "source": [
    "Results for $\\theta=0.3$ also seem agnostic to our selections for $B$."
   ]
  }
 ],
 "metadata": {
  "kernelspec": {
   "display_name": "Python 3 (ipykernel)",
   "language": "python",
   "name": "python3"
  },
  "language_info": {
   "codemirror_mode": {
    "name": "ipython",
    "version": 3
   },
   "file_extension": ".py",
   "mimetype": "text/x-python",
   "name": "python",
   "nbconvert_exporter": "python",
   "pygments_lexer": "ipython3",
   "version": "3.9.10"
  }
 },
 "nbformat": 4,
 "nbformat_minor": 5
}
